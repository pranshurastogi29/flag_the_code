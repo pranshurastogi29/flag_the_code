{
  "nbformat": 4,
  "nbformat_minor": 0,
  "metadata": {
    "colab": {
      "name": "AISOCO_Modelling_ANN.ipynb",
      "provenance": [],
      "mount_file_id": "1i1pdUSlMn-6d7-0ErdWeFnbhMhM-7hm3",
      "authorship_tag": "ABX9TyNlYCJ9DSfxc/9HzvK9Vxqr",
      "include_colab_link": true
    },
    "kernelspec": {
      "name": "python3",
      "display_name": "Python 3"
    }
  },
  "cells": [
    {
      "cell_type": "markdown",
      "metadata": {
        "id": "view-in-github",
        "colab_type": "text"
      },
      "source": [
        "<a href=\"https://colab.research.google.com/github/pranshurastogi29/flag_the_code/blob/main/AISOCO_Modelling_ANN.ipynb\" target=\"_parent\"><img src=\"https://colab.research.google.com/assets/colab-badge.svg\" alt=\"Open In Colab\"/></a>"
      ]
    },
    {
      "cell_type": "code",
      "metadata": {
        "id": "JXplhwEY6HEd"
      },
      "source": [
        "import numpy as np \n",
        "import pandas as pd \n",
        "import matplotlib.pyplot as plt\n",
        "import matplotlib.image as mpimg\n",
        "import seaborn as sns\n",
        "%matplotlib inline\n",
        "\n",
        "from sklearn.metrics import confusion_matrix, classification_report, accuracy_score\n",
        "from sklearn.model_selection import train_test_split\n",
        "from sklearn.model_selection import cross_val_score, KFold \n",
        "from sklearn.model_selection import RandomizedSearchCV, GridSearchCV\n",
        "from sklearn.pipeline import Pipeline\n",
        "from scipy.stats import uniform\n",
        "\n",
        "import itertools\n",
        "\n",
        "import warnings\n",
        "from sklearn.exceptions import ConvergenceWarning\n",
        "warnings.filterwarnings(\"ignore\", category=ConvergenceWarning)\n",
        "\n",
        "from keras.utils.np_utils import to_categorical\n",
        "from keras.utils import np_utils\n",
        "\n",
        "from keras.models import Sequential\n",
        "from keras.layers import Dense, Dropout, Flatten\n",
        "from keras.layers import Conv2D, MaxPooling2D, MaxPool2D\n",
        "#from keras.layers import AvgPool2D, BatchNormalization, Reshape\n",
        "from keras.optimizers import Adadelta, RMSprop, Adam\n",
        "from keras.losses import categorical_crossentropy\n",
        "from keras.wrappers.scikit_learn import KerasClassifier\n",
        "\n",
        "import tensorflow as tf\n",
        "import os"
      ],
      "execution_count": null,
      "outputs": []
    },
    {
      "cell_type": "code",
      "metadata": {
        "id": "buk-WZ7962zg"
      },
      "source": [
        "labels = np.load('/content/drive/My Drive/labels.npy')\n",
        "doc_vec = np.load('/content/drive/My Drive/doc_vec.npy')\n",
        "w2v_vec = np.load('/content/drive/My Drive/trainDataVecs.npy')\n",
        "pos_vec = np.load('/content/drive/My Drive/scaled_position_encoding.npy')"
      ],
      "execution_count": null,
      "outputs": []
    },
    {
      "cell_type": "code",
      "metadata": {
        "id": "TmE-sXYIClWY"
      },
      "source": [
        "def print_validation_report(y_true, y_pred):\n",
        "    print(\"Classification Report\")\n",
        "    print(classification_report(y_true, y_pred))\n",
        "    acc_sc = accuracy_score(y_true, y_pred)\n",
        "    print(\"Accuracy : \"+ str(acc_sc))\n",
        "    \n",
        "    return acc_sc\n",
        "\n",
        "\n",
        "def get_best_score(model):\n",
        "    \n",
        "    print(model.best_score_)    \n",
        "    print(model.best_params_)\n",
        "    print(model.best_estimator_)\n",
        "    \n",
        "    return model.best_score_\n",
        "\n",
        "def plot_history_loss_and_acc(history_keras_nn):\n",
        "\n",
        "    fig, axs = plt.subplots(1,2, figsize=(12,4))\n",
        "\n",
        "    axs[0].plot(history_keras_nn.history['loss'])\n",
        "    axs[0].plot(history_keras_nn.history['val_loss'])\n",
        "    axs[0].set_title('model loss')\n",
        "    axs[0].set_ylabel('loss')\n",
        "    axs[0].set_xlabel('epoch')\n",
        "    axs[0].legend(['train', 'validation'], loc='upper left')\n",
        "\n",
        "    axs[1].plot(history_keras_nn.history['acc'])\n",
        "    axs[1].plot(history_keras_nn.history['val_acc'])\n",
        "    axs[1].set_title('model accuracy')\n",
        "    axs[1].set_ylabel('accuracy')\n",
        "    axs[1].set_xlabel('epoch')\n",
        "    axs[1].legend(['train', 'validation'], loc='upper left')\n",
        "    plt.show()"
      ],
      "execution_count": null,
      "outputs": []
    },
    {
      "cell_type": "code",
      "metadata": {
        "colab": {
          "base_uri": "https://localhost:8080/"
        },
        "id": "b8Wv1Ha6DQQG",
        "outputId": "c28a5eb4-ac6c-4aa7-e202-5f9ef8cb4d7a"
      },
      "source": [
        "from sklearn.linear_model import Perceptron\n",
        "clf_Perceptron = Perceptron(random_state=0)\n",
        "param_grid = { 'penalty': ['l1'], 'tol': [0.05] }\n",
        "GridCV_Perceptron = GridSearchCV(clf_Perceptron, param_grid, verbose=1, cv=3, n_jobs=6)\n",
        "GridCV_Perceptron.fit(doc_vec,labels)\n",
        "score_grid_Perceptron = get_best_score(GridCV_Perceptron)"
      ],
      "execution_count": null,
      "outputs": [
        {
          "output_type": "stream",
          "text": [
            "Fitting 3 folds for each of 1 candidates, totalling 3 fits\n"
          ],
          "name": "stdout"
        },
        {
          "output_type": "stream",
          "text": [
            "[Parallel(n_jobs=6)]: Using backend LokyBackend with 6 concurrent workers.\n",
            "[Parallel(n_jobs=6)]: Done   3 out of   3 | elapsed: 15.3min finished\n"
          ],
          "name": "stderr"
        },
        {
          "output_type": "stream",
          "text": [
            "0.09555999999999999\n",
            "{'penalty': 'l1', 'tol': 0.05}\n",
            "Perceptron(alpha=0.0001, class_weight=None, early_stopping=False, eta0=1.0,\n",
            "           fit_intercept=True, max_iter=1000, n_iter_no_change=5, n_jobs=None,\n",
            "           penalty='l1', random_state=0, shuffle=True, tol=0.05,\n",
            "           validation_fraction=0.1, verbose=0, warm_start=False)\n"
          ],
          "name": "stdout"
        }
      ]
    },
    {
      "cell_type": "code",
      "metadata": {
        "id": "H4KLhOiFDWhi"
      },
      "source": [
        " "
      ],
      "execution_count": null,
      "outputs": []
    }
  ]
}